{
 "cells": [
  {
   "cell_type": "code",
   "execution_count": 1,
   "id": "7267989a",
   "metadata": {},
   "outputs": [],
   "source": [
    "# Import used libraries\n",
    "import numpy as np\n",
    "import pandas as pd"
   ]
  },
  {
   "cell_type": "code",
   "execution_count": 2,
   "id": "87498f56",
   "metadata": {},
   "outputs": [
    {
     "name": "stdout",
     "output_type": "stream",
     "text": [
      "   Unnamed: 0        Date         Open        Close  Volume  Change\n",
      "0           0  2019-11-10  2969.520472  2999.742644  967803    1.02\n",
      "1           1  2019-11-17  2731.232389  2727.037939  895803   -0.15\n",
      "2           2  2019-11-24  2603.829133  2602.605173  883489   -0.05\n",
      "3           3  2019-12-01  2889.558251  2764.358493  784014   -4.33\n",
      "4           4  2019-12-08  2485.534418  2440.562975  901310   -1.81\n"
     ]
    }
   ],
   "source": [
    "#Import csv\n",
    "stock = pd.read_csv('stock_data.csv')\n",
    "print(stock.head())"
   ]
  },
  {
   "cell_type": "code",
   "execution_count": null,
   "id": "da8ab580",
   "metadata": {},
   "outputs": [],
   "source": []
  }
 ],
 "metadata": {
  "kernelspec": {
   "display_name": "Python 3 (ipykernel)",
   "language": "python",
   "name": "python3"
  },
  "language_info": {
   "codemirror_mode": {
    "name": "ipython",
    "version": 3
   },
   "file_extension": ".py",
   "mimetype": "text/x-python",
   "name": "python",
   "nbconvert_exporter": "python",
   "pygments_lexer": "ipython3",
   "version": "3.9.6"
  }
 },
 "nbformat": 4,
 "nbformat_minor": 5
}
