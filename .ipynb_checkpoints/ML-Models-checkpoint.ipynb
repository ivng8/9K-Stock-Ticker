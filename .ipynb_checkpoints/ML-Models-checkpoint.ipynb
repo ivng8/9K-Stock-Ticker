{
 "cells": [
  {
   "cell_type": "code",
   "execution_count": null,
   "id": "7267989a",
   "metadata": {},
   "outputs": [],
   "source": [
    "# Import used libraries\n",
    "import numpy as np\n",
    "import pandas as pd\n",
    "from sklearn.preprocessing import StandardScaler\n",
    "from sklearn.model_selection import train_test_split, cross_val_score, KFold\n",
    "from sklearn.neural_network import MLPRegressor\n",
    "from sklearn.metrics import mean_squared_error\n",
    "import matplotlib.pyplot as plt\n",
    "from sklearn.linear_model import LinearRegression\n",
    "from scipy.special import expit\n",
    "import tensorflow as tf\n",
    "from tensorflow.keras.models import Sequential\n",
    "from tensorflow.keras.layers import Conv1D, MaxPooling1D, Flatten, Dense, Dropout"
   ]
  },
  {
   "cell_type": "code",
   "execution_count": null,
   "id": "87498f56",
   "metadata": {},
   "outputs": [],
   "source": [
    "#Import csv\n",
    "stock = pd.read_csv('stock_data.csv')\n",
    "print(stock.head())"
   ]
  },
  {
   "cell_type": "code",
   "execution_count": null,
   "id": "da8ab580",
   "metadata": {},
   "outputs": [],
   "source": [
    "stock = stock[['Date', 'Open', 'Close', 'Volume', 'Change']]\n",
    "print(stock.head())"
   ]
  },
  {
   "cell_type": "code",
   "execution_count": null,
   "id": "89ecddac",
   "metadata": {},
   "outputs": [],
   "source": [
    "# logistic regression\n",
    "# higher dimension\n",
    "# CNN"
   ]
  },
  {
   "cell_type": "code",
   "execution_count": null,
   "id": "a0577cd2",
   "metadata": {},
   "outputs": [],
   "source": [
    "# Traditional Step\n",
    "# Regression using the Normal Equation (X.T*X)*theta = (X.T*y)\n",
    "# Shift the change vector by 1 to make features project into next week\n",
    "stock['Next Change'] = stock['Change'].shift(-1)\n",
    "# Drop any rows with NaN values (will occur on last row due to shifting)\n",
    "stock = stock.dropna()\n",
    "# Define feature matrix X and target vector y\n",
    "X = stock[['Open', 'Close', 'Volume']].values\n",
    "y = stock['Next Change'].values\n",
    "X = np.c_[np.ones((X.shape[0], 1)), X]\n",
    "theta_linear = np.linalg.inv(X.T @ X) @ X.T @ y\n",
    "print(theta_linear)"
   ]
  },
  {
   "cell_type": "code",
   "execution_count": null,
   "id": "8c41d7f3",
   "metadata": {},
   "outputs": [],
   "source": [
    "# Predictions on the training set\n",
    "y_pred = X @ theta_linear\n",
    "\n",
    "# Plot predictions\n",
    "plt.plot(range(len(y)), y, label=\"Actual Values\")\n",
    "plt.plot(range(len(y_pred)), y_pred, label=\"Predicted Values\")\n",
    "plt.xlabel(\"Sample Index\")\n",
    "plt.ylabel(\"Percent Change\")\n",
    "plt.title(\"Actual vs Predicted Percent Change\")\n",
    "plt.legend()\n",
    "plt.show()"
   ]
  },
  {
   "cell_type": "code",
   "execution_count": null,
   "id": "84711cef",
   "metadata": {},
   "outputs": [],
   "source": [
    "# Get Error\n",
    "mse = mean_squared_error(y, y_pred)\n",
    "print(f\"Mean Squared Error: {mse}\")"
   ]
  },
  {
   "cell_type": "code",
   "execution_count": null,
   "id": "f3e32ec1",
   "metadata": {},
   "outputs": [],
   "source": [
    "# Higher dimension\n",
    "# Create quadratic features\n",
    "X_quad = np.hstack([X, X**2])\n",
    "X_quad = np.c_[np.ones((X_quad.shape[0], 1)), X_quad]\n",
    "theta_quad = np.linalg.pinv(X_quad.T @ X_quad) @ X_quad.T @ y\n",
    "print(theta_quad)"
   ]
  },
  {
   "cell_type": "code",
   "execution_count": null,
   "id": "d2ec49e7",
   "metadata": {},
   "outputs": [],
   "source": [
    "# Predictions on the training set\n",
    "y_pred = X_quad @ theta_quad\n",
    "\n",
    "# Plot predictions\n",
    "plt.plot(range(len(y)), y, label=\"Actual Values\")\n",
    "plt.plot(range(len(y_pred)), y_pred, label=\"Predicted Values\")\n",
    "plt.xlabel(\"Sample Index\")\n",
    "plt.ylabel(\"Percent Change\")\n",
    "plt.title(\"Actual vs Predicted Percent Change\")\n",
    "plt.legend()\n",
    "plt.show()"
   ]
  },
  {
   "cell_type": "code",
   "execution_count": null,
   "id": "03c9ee3a",
   "metadata": {},
   "outputs": [],
   "source": [
    "# Get Error\n",
    "mse = mean_squared_error(y, y_pred)\n",
    "print(f\"Mean Squared Error: {mse}\")"
   ]
  },
  {
   "cell_type": "code",
   "execution_count": null,
   "id": "c58d7b5b",
   "metadata": {},
   "outputs": [],
   "source": [
    "# Ridge Regression\n",
    "lambda_identity = 1e-5 * np.eye(X_quad.shape[1])\n",
    "theta_quad = np.linalg.inv(X_quad.T @ X_quad + lambda_identity) @ X_quad.T @ y\n",
    "print(theta_quad)"
   ]
  },
  {
   "cell_type": "code",
   "execution_count": null,
   "id": "7eea5a2e",
   "metadata": {},
   "outputs": [],
   "source": [
    "# Predictions on the training set\n",
    "y_pred = X_quad @ theta_quad\n",
    "\n",
    "# Plot predictions\n",
    "plt.plot(range(len(y)), y, label=\"Actual Values\")\n",
    "plt.plot(range(len(y_pred)), y_pred, label=\"Predicted Values\")\n",
    "plt.xlabel(\"Sample Index\")\n",
    "plt.ylabel(\"Percent Change\")\n",
    "plt.title(\"Actual vs Predicted Percent Change\")\n",
    "plt.legend()\n",
    "plt.show()"
   ]
  },
  {
   "cell_type": "code",
   "execution_count": null,
   "id": "b7f68103",
   "metadata": {},
   "outputs": [],
   "source": [
    "# Get Error\n",
    "mse = mean_squared_error(y, y_pred)\n",
    "print(f\"Mean Squared Error: {mse}\")"
   ]
  },
  {
   "cell_type": "code",
   "execution_count": null,
   "id": "ee8ac177-c319-4c61-ad74-462fcf33aa4a",
   "metadata": {},
   "outputs": [],
   "source": [
    "# Split data into training and testing sets\n",
    "X_train, X_test, y_train, y_test = train_test_split(X, y, test_size=0.2, random_state=42)\n",
    "\n",
    "# Initialize and train a linear regression model\n",
    "linear_model = LinearRegression()\n",
    "linear_model.fit(X_train, y_train)\n",
    "\n",
    "# Predict on test set\n",
    "y_pred_linear = linear_model.predict(X_test)\n",
    "\n",
    "# Apply logistic transformation to the predictions (sigmoid)\n",
    "y_pred_logistic = expit(y_pred_linear)\n",
    "\n",
    "# Plot predictions\n",
    "plt.figure(figsize=(12, 6))\n",
    "plt.plot(range(len(y_test)), y_test, label=\"Actual Values\")\n",
    "plt.plot(range(len(y_pred_logistic)), y_pred_logistic, label=\"Predicted Values (Logistic Transformed)\")\n",
    "plt.xlabel(\"Sample Index\")\n",
    "plt.ylabel(\"Transformed Percent Change\")\n",
    "plt.title(\"Actual vs Predicted Stock Price Change (Logistic Transformed)\")\n",
    "plt.legend()\n",
    "plt.show()"
   ]
  },
  {
   "cell_type": "code",
   "execution_count": null,
   "id": "14d23263-c673-42c1-a216-bde50234c50f",
   "metadata": {},
   "outputs": [],
   "source": [
    "# Evaluate model\n",
    "mse = mean_squared_error(y_test, y_pred_logistic)\n",
    "print(f\"Mean Squared Error (with logistic transformation): {mse}\")"
   ]
  },
  {
   "cell_type": "code",
   "execution_count": null,
   "id": "2e32f212",
   "metadata": {
    "scrolled": true
   },
   "outputs": [],
   "source": [
    "#Neural Network model\n",
    "plt.style.use('ggplot')\n",
    "\n",
    "scaler = StandardScaler()\n",
    "X = scaler.fit_transform(X)\n",
    "X_train, X_test, y_train, y_test = train_test_split(X, y, test_size=0.2, random_state=42)\n",
    "\n",
    "\n",
    "# Initialize the neural network\n",
    "model = MLPRegressor( hidden_layer_sizes=(64, 32), activation='relu', solver='adam', \n",
    "    max_iter=10000,\n",
    "    early_stopping=True,\n",
    "    random_state=42\n",
    ")\n",
    "\n",
    "# Perform cross-validation\n",
    "kf = KFold(n_splits=10, shuffle=True, random_state=42)\n",
    "cv_scores = cross_val_score(model, X_train, y_train, scoring='neg_mean_squared_error', cv=kf)\n",
    "cv_scores = -cv_scores  # Convert negative MSE to positive\n",
    "mean_cv_score = np.mean(cv_scores)\n",
    "print(f\"Cross-Validation MSE Scores: {cv_scores}\")\n",
    "print(f\"Mean CV MSE: {mean_cv_score}\")\n",
    "\n",
    "\n",
    "# Fit the model and evaluate on the test set\n",
    "model.fit(X_train, y_train)\n",
    "y_pred = model.predict(X_test)\n",
    "\n",
    "# Visualize predictions\n",
    "plt.figure(figsize=(12, 6))\n",
    "plt.plot(range(len(y_test)), y_test, label=\"Actual Values\")\n",
    "plt.plot(range(len(y_pred)), y_pred, label=\"Predicted Values (NN)\")\n",
    "plt.xlabel(\"Sample Index\")\n",
    "plt.ylabel(\"Percent Change\")\n",
    "plt.title(\"Actual vs Predicted Percent Change (Neural Network)\")\n",
    "plt.legend()\n",
    "plt.show()"
   ]
  },
  {
   "cell_type": "code",
   "execution_count": null,
   "id": "4515c7b1-20be-45ab-a051-1248796d0736",
   "metadata": {},
   "outputs": [],
   "source": [
    "mse_test = mean_squared_error(y_test, y_pred)\n",
    "print(f\"Test Set MSE: {mse_test}\")"
   ]
  },
  {
   "cell_type": "code",
   "execution_count": null,
   "id": "8fba076b-78ec-42ba-b9b2-5ccaf0b6c495",
   "metadata": {},
   "outputs": [],
   "source": [
    "# Standardize features\n",
    "scaler = StandardScaler()\n",
    "X = scaler.fit_transform(X)\n",
    "\n",
    "# Reshape X to (samples, timesteps, features) for CNN\n",
    "# Assume each sample has a single timestep with all features as input\n",
    "X = X.reshape((X.shape[0], 1, X.shape[1]))  # Shape: (samples, timesteps=1, features)\n",
    "\n",
    "# Split data into training and testing sets\n",
    "X_train, X_test, y_train, y_test = train_test_split(X, y, test_size=0.2, random_state=42)\n",
    "\n",
    "# Define the CNN model\n",
    "model = Sequential([\n",
    "    Conv1D(filters=32, kernel_size=1, activation='relu', input_shape=(X_train.shape[1], X_train.shape[2])),\n",
    "    MaxPooling1D(pool_size=1),\n",
    "    Dropout(0.2),\n",
    "    Flatten(),\n",
    "    Dense(64, activation='relu'),\n",
    "    Dense(32, activation='relu'),\n",
    "    Dense(1)  # Single output for regression\n",
    "])\n",
    "\n",
    "# Compile the model\n",
    "model.compile(optimizer='adam', loss='mse', metrics=['mae'])\n",
    "\n",
    "# Make predictions\n",
    "y_pred = model.predict(X_test)\n",
    "\n",
    "# Train the model\n",
    "history = model.fit(X_train, y_train, epochs=100, batch_size=32, validation_split=0.2, verbose=1)\n",
    "\n",
    "# Plot predictions vs actual\n",
    "plt.figure(figsize=(12, 6))\n",
    "plt.plot(range(len(y_test)), y_test, label=\"Actual Values\")\n",
    "plt.plot(range(len(y_pred)), y_pred, label=\"Predicted Values (CNN)\")\n",
    "plt.xlabel(\"Sample Index\")\n",
    "plt.ylabel(\"Percent Change\")\n",
    "plt.title(\"Actual vs Predicted Percent Change (CNN)\")\n",
    "plt.legend()\n",
    "plt.show()"
   ]
  },
  {
   "cell_type": "code",
   "execution_count": null,
   "id": "2d348cb1-a612-408f-b3d2-e6dfddef4b4f",
   "metadata": {},
   "outputs": [],
   "source": [
    "# Calculate MSE\n",
    "mse_test = mean_squared_error(y_test, y_pred)\n",
    "print(f\"Mean Squared Error on Test Set: {mse_test}\")"
   ]
  }
 ],
 "metadata": {
  "kernelspec": {
   "display_name": "Python 3 (ipykernel)",
   "language": "python",
   "name": "python3"
  },
  "language_info": {
   "codemirror_mode": {
    "name": "ipython",
    "version": 3
   },
   "file_extension": ".py",
   "mimetype": "text/x-python",
   "name": "python",
   "nbconvert_exporter": "python",
   "pygments_lexer": "ipython3",
   "version": "3.12.7"
  }
 },
 "nbformat": 4,
 "nbformat_minor": 5
}
