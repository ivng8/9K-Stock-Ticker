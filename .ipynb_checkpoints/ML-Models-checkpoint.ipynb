{
 "cells": [
  {
   "cell_type": "code",
   "execution_count": null,
   "id": "7267989a",
   "metadata": {},
   "outputs": [],
   "source": [
    "# Import used libraries\n",
    "import numpy as np\n",
    "import pandas as pd\n",
    "import matplotlib.pyplot as plt\n",
    "from sklearn.metrics import mean_squared_error"
   ]
  },
  {
   "cell_type": "code",
   "execution_count": null,
   "id": "87498f56",
   "metadata": {},
   "outputs": [],
   "source": [
    "#Import csv\n",
    "stock = pd.read_csv('stock_data.csv')\n",
    "print(stock.head())"
   ]
  },
  {
   "cell_type": "code",
   "execution_count": null,
   "id": "da8ab580",
   "metadata": {},
   "outputs": [],
   "source": [
    "stock = stock[['Date', 'Open', 'Close', 'Volume', 'Change']]\n",
    "print(stock.head())"
   ]
  },
  {
   "cell_type": "code",
   "execution_count": null,
   "id": "89ecddac",
   "metadata": {},
   "outputs": [],
   "source": [
    "# tradition step\n",
    "# logistic regression\n",
    "# higher dimension\n",
    "# CNN"
   ]
  },
  {
   "cell_type": "code",
   "execution_count": null,
   "id": "94aa8e5a",
   "metadata": {},
   "outputs": [],
   "source": [
    "# Regression using the Normal Equation (X.T*X)*theta = (X.T*y)\n",
    "# Shift the change vector by 1 to make features project into next week\n",
    "stock['Next Change'] = stock['Change'].shift(-1)\n",
    "# Drop any rows with NaN values (will occur on last row due to shifting)\n",
    "stock = stock.dropna()\n",
    "# Define feature matrix X and target vector y\n",
    "X = stock[['Open', 'Close', 'Volume']].values\n",
    "y = stock['Next Change'].values\n",
    "X = np.c_[np.ones((X.shape[0], 1)), X]\n",
    "theta_linear = np.linalg.inv(X.T @ X) @ X.T @ y\n",
    "print(theta)"
   ]
  },
  {
   "cell_type": "code",
   "execution_count": null,
   "id": "45d3e877",
   "metadata": {},
   "outputs": [],
   "source": [
    "# Predictions on the training set\n",
    "y_pred = X @ theta\n",
    "\n",
    "# Plot predictions\n",
    "plt.plot(range(len(y)), y, label=\"Actual Values\")\n",
    "plt.plot(range(len(y_pred)), y_pred, label=\"Predicted Values\")\n",
    "plt.xlabel(\"Sample Index\")\n",
    "plt.ylabel(\"Percent Change\")\n",
    "plt.title(\"Actual vs Predicted Percent Change\")\n",
    "plt.legend()\n",
    "plt.show()"
   ]
  },
  {
   "cell_type": "code",
   "execution_count": null,
   "id": "d900cb22",
   "metadata": {},
   "outputs": [],
   "source": [
    "# Get Error\n",
    "mse = mean_squared_error(y, y_pred)\n",
    "print(f\"Mean Squared Error: {mse}\")"
   ]
  },
  {
   "cell_type": "code",
   "execution_count": null,
   "id": "b8b55e8f",
   "metadata": {},
   "outputs": [],
   "source": [
    "# Create quadratic features\n",
    "X_quad = np.hstack([X, X**2])\n",
    "X_quad = np.c_[np.ones((X_quad.shape[0], 1)), X_quad]\n",
    "theta_quad = np.linalg.pinv(X_quad.T @ X_quad) @ X_quad.T @ y\n",
    "print(theta_quad)"
   ]
  },
  {
   "cell_type": "code",
   "execution_count": null,
   "id": "0ca82016",
   "metadata": {},
   "outputs": [],
   "source": [
    "# Predictions on the training set\n",
    "y_pred = X_quad @ theta_quad\n",
    "\n",
    "# Plot predictions\n",
    "plt.plot(range(len(y)), y, label=\"Actual Values\")\n",
    "plt.plot(range(len(y_pred)), y_pred, label=\"Predicted Values\")\n",
    "plt.xlabel(\"Sample Index\")\n",
    "plt.ylabel(\"Percent Change\")\n",
    "plt.title(\"Actual vs Predicted Percent Change\")\n",
    "plt.legend()\n",
    "plt.show()"
   ]
  },
  {
   "cell_type": "code",
   "execution_count": null,
   "id": "9e879891",
   "metadata": {},
   "outputs": [],
   "source": [
    "# Get Error\n",
    "mse = mean_squared_error(y, y_pred)\n",
    "print(f\"Mean Squared Error: {mse}\")"
   ]
  },
  {
   "cell_type": "code",
   "execution_count": null,
   "id": "61603884",
   "metadata": {},
   "outputs": [],
   "source": [
    "# Add a small regularization term to the diagonal\n",
    "lambda_identity = 1e-5 * np.eye(X_quad.shape[1])  # Adjust lambda as needed\n",
    "theta_quad = np.linalg.inv(X_quad.T @ X_quad + lambda_identity) @ X_quad.T @ y\n",
    "print(theta_quad)"
   ]
  },
  {
   "cell_type": "code",
   "execution_count": null,
   "id": "2ae2d9d1",
   "metadata": {},
   "outputs": [],
   "source": [
    "# Predictions on the training set\n",
    "y_pred = X_quad @ theta_quad\n",
    "\n",
    "# Plot predictions\n",
    "plt.plot(range(len(y)), y, label=\"Actual Values\")\n",
    "plt.plot(range(len(y_pred)), y_pred, label=\"Predicted Values\")\n",
    "plt.xlabel(\"Sample Index\")\n",
    "plt.ylabel(\"Percent Change\")\n",
    "plt.title(\"Actual vs Predicted Percent Change\")\n",
    "plt.legend()\n",
    "plt.show()"
   ]
  },
  {
   "cell_type": "code",
   "execution_count": null,
   "id": "79e87e6d",
   "metadata": {},
   "outputs": [],
   "source": [
    "# Get Error\n",
    "mse = mean_squared_error(y, y_pred)\n",
    "print(f\"Mean Squared Error: {mse}\")"
   ]
  },
  {
   "cell_type": "code",
   "execution_count": null,
   "id": "cfe544f2",
   "metadata": {},
   "outputs": [],
   "source": [
    "# Ridge Regression\n",
    "lambda_identity = 1e-5 * np.eye(X_quad.shape[1])\n",
    "theta_quad = np.linalg.inv(X_quad.T @ X_quad + lambda_identity) @ X_quad.T @ y\n",
    "print(theta_quad)"
   ]
  },
  {
   "cell_type": "code",
   "execution_count": null,
   "id": "2092ad1a",
   "metadata": {},
   "outputs": [],
   "source": [
    "# Predictions on the training set\n",
    "y_pred = X_quad @ theta_quad\n",
    "\n",
    "# Plot predictions\n",
    "plt.plot(range(len(y)), y, label=\"Actual Values\")\n",
    "plt.plot(range(len(y_pred)), y_pred, label=\"Predicted Values\")\n",
    "plt.xlabel(\"Sample Index\")\n",
    "plt.ylabel(\"Percent Change\")\n",
    "plt.title(\"Actual vs Predicted Percent Change\")\n",
    "plt.legend()\n",
    "plt.show()"
   ]
  },
  {
   "cell_type": "code",
   "execution_count": null,
   "id": "9670369a",
   "metadata": {},
   "outputs": [],
   "source": [
    "# Get Error\n",
    "mse = mean_squared_error(y, y_pred)\n",
    "print(f\"Mean Squared Error: {mse}\")"
   ]
  },
  {
   "cell_type": "code",
   "execution_count": null,
   "id": "3071b0ea",
   "metadata": {},
   "outputs": [],
   "source": []
  }
 ],
 "metadata": {
  "kernelspec": {
   "display_name": "Python 3 (ipykernel)",
   "language": "python",
   "name": "python3"
  },
  "language_info": {
   "codemirror_mode": {
    "name": "ipython",
    "version": 3
   },
   "file_extension": ".py",
   "mimetype": "text/x-python",
   "name": "python",
   "nbconvert_exporter": "python",
   "pygments_lexer": "ipython3",
   "version": "3.11.5"
  }
 },
 "nbformat": 4,
 "nbformat_minor": 5
}
